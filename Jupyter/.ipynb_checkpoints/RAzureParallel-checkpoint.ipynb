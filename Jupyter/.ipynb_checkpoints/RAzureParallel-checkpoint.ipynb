{
 "cells": [
  {
   "cell_type": "markdown",
   "metadata": {},
   "source": [
    "<p style=\"line-height: 1.1\"><font size=\"24\"><b>Parallel programming with R and Azure Batch</b></font></p>"
   ]
  },
  {
   "cell_type": "markdown",
   "metadata": {},
   "source": [
    "# Embarrasingly Parallel Problems\n",
    "<br>\n",
    "Also called **perfectly parallel**, these are the most simple cases for parallel computing: \n",
    "\n",
    "- Similar tasks are repeated many times  \n",
    "    - Iterations in a loop construct, chunks of data  \n",
    "- Calculations are independent of each other  \n",
    "- Little or no manipulation needed to create parallel tasks  \n",
    "- Examples:  \n",
    "    - Independent Monte Carlo simulations  \n",
    "    - Analysis by groups of data  \n",
    "---\n",
    "Example: Monte Carlo Simulation, random walk of an asset price"
   ]
  },
  {
   "cell_type": "code",
   "execution_count": 1,
   "metadata": {},
   "outputs": [],
   "source": [
    "getClosingPrice <- function(opening_price=100, mean_change=1.001, volatility=0.01, days=1825) { \n",
    "    movement <- rnorm(days, mean = mean_change, sd = volatility) \n",
    "    path <- cumprod(c(opening_price, movement)) \n",
    "    closingPrice <- path[days] \n",
    "    return(closingPrice) \n",
    "}"
   ]
  },
  {
   "cell_type": "markdown",
   "metadata": {},
   "source": [
    "To run multiple independent simulations, we can use one of the many looping constructs that come with R, like `for`, `while` or the `apply` family.  \n",
    "\n",
    "\n",
    "We use `replicate` to run repeatedly in a single thread: "
   ]
  },
  {
   "cell_type": "code",
   "execution_count": 2,
   "metadata": {},
   "outputs": [
    {
     "data": {
      "text/plain": [
       "Time difference of 15.40491 secs"
      ]
     },
     "metadata": {},
     "output_type": "display_data"
    },
    {
     "data": {
      "image/png": "[encoded data removed]",
      "text/plain": [
       "Plot with title “Histogram of closingPrices_s”"
      ]
     },
     "metadata": {
      "image/png": {
       "height": 420,
       "width": 420
      }
     },
     "output_type": "display_data"
    }
   ],
   "source": [
    "n <- 100000\n",
    "start_s <- Sys.time() \n",
    "closingPrices_s <- replicate(n, getClosingPrice()) \n",
    "end_s <- Sys.time()\n",
    "difftime(end_s, start_s)\n",
    "hist(closingPrices_s)"
   ]
  },
  {
   "cell_type": "markdown",
   "metadata": {},
   "source": [
    "\n",
    "# The package `foreach`\n",
    "## The foreach looping construct\n",
    "\n",
    "The package [foreach](https://cran.r-project.org/web/packages/foreach/vignettes/foreach.html) introduces a looping construct that supports parallel execution\n",
    "\n",
    "The `foreach` loop looks similar to a `for` loop, but is implemented using a binary operator, called `%do%`. Unlike `for`, it returns a value\n",
    "\n"
   ]
  },
  {
   "cell_type": "code",
   "execution_count": 3,
   "metadata": {},
   "outputs": [
    {
     "data": {
      "text/html": [
       "<ol>\n",
       "\t<li>'Hello from iteration 1'</li>\n",
       "\t<li>'Hello from iteration 2'</li>\n",
       "\t<li>'Hello from iteration 3'</li>\n",
       "\t<li>'Hello from iteration 4'</li>\n",
       "\t<li>'Hello from iteration 5'</li>\n",
       "</ol>\n"
      ],
      "text/latex": [
       "\\begin{enumerate}\n",
       "\\item 'Hello from iteration 1'\n",
       "\\item 'Hello from iteration 2'\n",
       "\\item 'Hello from iteration 3'\n",
       "\\item 'Hello from iteration 4'\n",
       "\\item 'Hello from iteration 5'\n",
       "\\end{enumerate}\n"
      ],
      "text/markdown": [
       "1. 'Hello from iteration 1'\n",
       "2. 'Hello from iteration 2'\n",
       "3. 'Hello from iteration 3'\n",
       "4. 'Hello from iteration 4'\n",
       "5. 'Hello from iteration 5'\n",
       "\n",
       "\n"
      ],
      "text/plain": [
       "[[1]]\n",
       "[1] \"Hello from iteration 1\"\n",
       "\n",
       "[[2]]\n",
       "[1] \"Hello from iteration 2\"\n",
       "\n",
       "[[3]]\n",
       "[1] \"Hello from iteration 3\"\n",
       "\n",
       "[[4]]\n",
       "[1] \"Hello from iteration 4\"\n",
       "\n",
       "[[5]]\n",
       "[1] \"Hello from iteration 5\"\n"
      ]
     },
     "metadata": {},
     "output_type": "display_data"
    }
   ],
   "source": [
    "suppressMessages(library(foreach))\n",
    "foreach(i=1:5) %do% sprintf(\"Hello from iteration %s\", i)"
   ]
  },
  {
   "cell_type": "markdown",
   "metadata": {},
   "source": [
    "The loop `foreach` with the operator `%do%` runs locally and single threaded, pretty much like `for`. This is essentially used for intermediate local tests.\n",
    "\n",
    "`foreach` comes with another operator, `%dopar%` that runs iterations in parallel. In order to do so, we need to register a parallel backend\n",
    "\n",
    "## Registering a parallel backend\n",
    "\n",
    "There are multiple packages that implement functionality to create and register parallel backend clusters:\n",
    "\n",
    "- `foreach::registerDoSEQ` explicitly register the default sequential backend\n",
    "- `doParallel::registerDoParallel` local cluster via library(parallel)\n",
    "- `doFuture::registerDoFuture` HPC with schedulers\n",
    "- `future::makeClusterMPI` Message Passing Interface (MPI) cluster\n",
    "- `doAzureParallel::registerDoAzureParallel`\n",
    "\n",
    "\n",
    "Example: local cluster with `doParallel`:"
   ]
  },
  {
   "cell_type": "code",
   "execution_count": 4,
   "metadata": {},
   "outputs": [
    {
     "data": {
      "text/plain": [
       "Time difference of 7.065464 secs"
      ]
     },
     "metadata": {},
     "output_type": "display_data"
    },
    {
     "data": {
      "image/png": "[encoded data removed]",
      "text/plain": [
       "Plot with title “Histogram of closingPrices_p”"
      ]
     },
     "metadata": {
      "image/png": {
       "height": 420,
       "width": 420
      }
     },
     "output_type": "display_data"
    }
   ],
   "source": [
    "suppressMessages(library(doParallel))\n",
    "local_cluster <- parallel::makeCluster(4)\n",
    "registerDoParallel(local_cluster)\n",
    "\n",
    "n <- 100000\n",
    "iterations <- 4\n",
    "start_p <- Sys.time() \n",
    "closingPrices_p <- foreach(i = seq(iterations), .combine = \"c\") %dopar% {\n",
    "    replicate(n/iterations, getClosingPrice())\n",
    "}\n",
    "end_p <- Sys.time()\n",
    "difftime(end_p, start_p)\n",
    "hist(closingPrices_p)"
   ]
  },
  {
   "cell_type": "markdown",
   "metadata": {},
   "source": [
    "# Azure setup\n",
    "<br>\n",
    "We will now use the package `doAzureParallel` to interact with an Azure subscription.\n",
    "\n",
    "You will need to have a valid Azure subscription with access to the resources we will use in this example: an Azure Batch account and a storage account.\n",
    "\n",
    "First thing is to install the package and its dependency `rAzureBatch`"
   ]
  },
  {
   "cell_type": "code",
   "execution_count": 5,
   "metadata": {},
   "outputs": [],
   "source": [
    "suppressMessages({\n",
    "    devtools::install_github(\"Azure/rAzureBatch\", ref = \"v0.7.0\")\n",
    "    devtools::install_github(\"Azure/doAzureParallel\", ref = \"v0.8.0\")\n",
    "    library(doAzureParallel)\n",
    "})"
   ]
  },
  {
   "cell_type": "markdown",
   "metadata": {},
   "source": [
    "## Azure credentials\n",
    "<br>\n",
    "Generate a credentials configuration file (template)"
   ]
  },
  {
   "cell_type": "code",
   "execution_count": 6,
   "metadata": {},
   "outputs": [],
   "source": [
    "generateCredentialsConfig(\"credentials.json\")"
   ]
  },
  {
   "cell_type": "markdown",
   "metadata": {},
   "source": [
    "<br>\n",
    "Edit the file with your own Azure credentials:\n",
    "\n",
    "- Batch account name\n",
    "- Batch account key: Primary access key\n",
    "- Batch account URL\n",
    "- Storage account name\n",
    "- Storage account key\n",
    "\n",
    "You find the above in the _Keys_ section of your Batch and Storage accounts in the [Azure portal](https://portal.azure.com/)\n",
    "\n",
    "<br>\n",
    "Next, set your credentials in the current R session."
   ]
  },
  {
   "cell_type": "code",
   "execution_count": 7,
   "metadata": {},
   "outputs": [
    {
     "name": "stdout",
     "output_type": "stream",
     "text": [
      "================================================================================\n",
      "Batch Account: miraibatch\n",
      "Batch Account Url: https://miraibatch.northeurope.batch.azure.com\n",
      "Storage Account: razureinterfaces\n",
      "Storage Account Url: https://razureinterfaces.blob.core.windows.net\n",
      "================================================================================\n",
      "Your credentials have been successfully set.\n"
     ]
    }
   ],
   "source": [
    "setCredentials(\"credentials.json\")"
   ]
  },
  {
   "cell_type": "markdown",
   "metadata": {},
   "source": [
    "<br>\n",
    "If successful, you can see a new option with information of your Azure account."
   ]
  },
  {
   "cell_type": "code",
   "execution_count": 8,
   "metadata": {},
   "outputs": [
    {
     "data": {
      "text/plain": [
       "$sharedKey\n",
       "$sharedKey$batchAccount\n",
       "$sharedKey$batchAccount$name\n",
       "[1] \"miraibatch\"\n",
       "\n",
       "$sharedKey$batchAccount$key\n",
       "[1] \"gtsRN0Imh9cBJr6wZQjlBbjpG2P8OKQ0VRQR9ICYs+yxI3svQhjMVij3SQ1NKhF6T1/yGWE9uG5dRId7bKde4g==\"\n",
       "\n",
       "$sharedKey$batchAccount$url\n",
       "[1] \"https://miraibatch.northeurope.batch.azure.com\"\n",
       "\n",
       "\n",
       "$sharedKey$storageAccount\n",
       "$sharedKey$storageAccount$name\n",
       "[1] \"razureinterfaces\"\n",
       "\n",
       "$sharedKey$storageAccount$key\n",
       "[1] \"nFGg7N7IcXdZArXXLPvj3YLsnZ3J36airmDzraZgbaniaqh9urL7WZqYFduAjYdbV6qkRuZK+ztsk9j80P8GmA==\"\n",
       "\n",
       "$sharedKey$storageAccount$endpointSuffix\n",
       "[1] \"core.windows.net\"\n",
       "\n",
       "\n",
       "\n",
       "$githubAuthenticationToken\n",
       "[1] \"\"\n",
       "\n",
       "$dockerAuthentication\n",
       "$dockerAuthentication$username\n",
       "[1] \"\"\n",
       "\n",
       "$dockerAuthentication$password\n",
       "[1] \"\"\n",
       "\n",
       "$dockerAuthentication$registry\n",
       "[1] \"\"\n",
       "\n",
       "\n",
       "$applicationInsights\n",
       "$applicationInsights$applicationId\n",
       "[1] \"RAzureInterfacesDemo\"\n",
       "\n",
       "$applicationInsights$instrumentationKey\n",
       "[1] \"8e2bf19d-b883-4a99-9ef2-a1aecced34d5\"\n",
       "\n",
       "\n",
       "$azureEnvironment\n",
       "$azureEnvironment$type\n",
       "[1] \"azure\"\n",
       "\n",
       "$azureEnvironment$aadUrl\n",
       "[1] \"https://login.microsoftonline.com/\"\n",
       "\n",
       "$azureEnvironment$armUrl\n",
       "[1] \"https://management.azure.com/\"\n",
       "\n",
       "$azureEnvironment$batchUrl\n",
       "[1] \"https://batch.core.windows.net/\"\n",
       "\n",
       "\n",
       "$batchClient\n",
       "<BatchServiceClient>\n",
       "  Inherits from: <AzureServiceClient>\n",
       "  Public:\n",
       "    apiVersion: 2018-03-01.6.1\n",
       "    authentication: SharedKeyCredentials, AzureCredentials, R6\n",
       "    clone: function (deep = FALSE) \n",
       "    execute: function (request) \n",
       "    executeRequest: function (url, request) \n",
       "    extractAzureResponse: function (response, content) \n",
       "    fileOperations: FileOperations, R6\n",
       "    initialize: function (url = NA, authentication = NA) \n",
       "    jobOperations: JobOperations, R6\n",
       "    poolOperations: PoolOperations, R6\n",
       "    taskOperations: TaskOperations, R6\n",
       "    url: https://miraibatch.northeurope.batch.azure.com\n",
       "    verbose: FALSE\n",
       "\n",
       "$storageClient\n",
       "<StorageServiceClient>\n",
       "  Inherits from: <AzureServiceClient>\n",
       "  Public:\n",
       "    apiVersion: 2016-05-31\n",
       "    authentication: SharedKeyCredentials, AzureCredentials, R6\n",
       "    blobOperations: BlobOperations, R6\n",
       "    clone: function (deep = FALSE) \n",
       "    containerOperations: ContainerOperations, R6\n",
       "    execute: function (request) \n",
       "    executeRequest: function (url, request) \n",
       "    extractAzureResponse: function (response, content) \n",
       "    generateSasToken: function (permission, sr, path, start = Sys.time() - 60 * 60 * \n",
       "    initialize: function (url = NA, authentication = NA, sasToken = NULL) \n",
       "    sasToken: NULL\n",
       "    url: https://razureinterfaces.blob.core.windows.net\n",
       "    verbose: FALSE\n",
       "\n",
       "$endpointSuffix\n",
       "[1] \"core.windows.net\"\n"
      ]
     },
     "metadata": {},
     "output_type": "display_data"
    }
   ],
   "source": [
    "getOption(\"az_config\")"
   ]
  },
  {
   "cell_type": "markdown",
   "metadata": {},
   "source": [
    "<br>\n",
    "\n",
    "## Azure Batch pool\n",
    "\n",
    "<br>\n",
    "Generate a cluster configuration file (template)"
   ]
  },
  {
   "cell_type": "code",
   "execution_count": 9,
   "metadata": {},
   "outputs": [],
   "source": [
    "generateClusterConfig(\"cluster.json\")"
   ]
  },
  {
   "cell_type": "markdown",
   "metadata": {},
   "source": [
    "<br>\n",
    "Edit the cluster configuration file with your desired configuration.\n",
    "\n",
    "Create your cluster if it does not exist; this takes a few minutes. Alternatively get your cluster configuration from the Batch account"
   ]
  },
  {
   "cell_type": "code",
   "execution_count": 13,
   "metadata": {},
   "outputs": [
    {
     "name": "stdout",
     "output_type": "stream",
     "text": [
      "\n",
      "nodes:\n",
      "\tidle:                5\n",
      "\tcreating:            0\n",
      "\tstarting:            0\n",
      "\twaitingforstarttask: 0\n",
      "\tstarttaskfailed:     0\n",
      "\tpreempted:           0\n",
      "\trunning:             0\n",
      "\tother:               0\n",
      "Your cluster has been registered.\n",
      "Dedicated Node Count: 5\n",
      "Low Priority Node Count: 0\n",
      "================================================================================\n",
      "Name: raipool\n",
      "Configuration:\n",
      "\tDocker Image: rocker/tidyverse:latest\n",
      "\tMaxTasksPerNode: 2\n",
      "\tNode Size: Standard_D2_v2\n",
      "Scale:\n",
      "\tAutoscale Formula: QUEUE\n",
      "\tDedicated:\n",
      "\t\tMin: 5\n",
      "\t\tMax: 5\n",
      "\tLow Priority:\n",
      "\t\tMin: 0\n",
      "\t\tMax: 0\n",
      "================================================================================\n"
     ]
    },
    {
     "name": "stderr",
     "output_type": "stream",
     "text": [
      "Warning message in self$client$extractAzureResponse(response, content):\n",
      "“Conflict (HTTP 409).”\n"
     ]
    },
    {
     "name": "stdout",
     "output_type": "stream",
     "text": [
      "The specified cluster 'raipool' already exists. Cluster 'raipool' will be used.\n",
      "Your cluster has been registered.\n",
      "Dedicated Node Count: 5\n",
      "Low Priority Node Count: 0\n"
     ]
    }
   ],
   "source": [
    "# Get configuration from Azure\n",
    "cluster <- getCluster(\"raipool\")\n",
    "# Create new cluster from configuration file\n",
    "cluster <- makeCluster(\"cluster.json\") "
   ]
  },
  {
   "cell_type": "markdown",
   "metadata": {},
   "source": [
    "---\n",
    "Beware of open issue [#330](https://github.com/Azure/doAzureParallel/issues/330) in package `doAzureParallel`. Registering a cluster that has been obtained with `getCluster` results in a not obvious misconfiguration of the cluster. In current version, this issue can be worked around by creating the cluster (again) before registering. That is, running the chunk above. The cluster will in fact not be re-created, but the metadata will be fixed.\n",
    "\n",
    "---\n",
    "Finally, register your Azure cluster as the parallel backend for `foreach`"
   ]
  },
  {
   "cell_type": "code",
   "execution_count": 14,
   "metadata": {},
   "outputs": [],
   "source": [
    "registerDoAzureParallel(cluster)"
   ]
  },
  {
   "cell_type": "markdown",
   "metadata": {},
   "source": [
    "Check that you the cluster is available"
   ]
  },
  {
   "cell_type": "code",
   "execution_count": 15,
   "metadata": {},
   "outputs": [
    {
     "data": {
      "text/html": [
       "10"
      ],
      "text/latex": [
       "10"
      ],
      "text/markdown": [
       "10"
      ],
      "text/plain": [
       "[1] 10"
      ]
     },
     "metadata": {},
     "output_type": "display_data"
    },
    {
     "name": "stdout",
     "output_type": "stream",
     "text": [
      "================================================================================\n",
      "Id: job20201007213939\n",
      "chunkSize: 1\n",
      "enableCloudCombine: TRUE\n",
      "errorHandling: stop\n",
      "wait: TRUE\n",
      "autoDeleteJob: TRUE\n",
      "================================================================================\n",
      "Submitting tasks (5/5)\n",
      "Submitting merge task. . .\n",
      "Waiting for tasks to complete. . .\n",
      "| Progress: 100.00% (5/5) | Running: 0 | Queued: 0 | Completed: 5 | Failed: 0 |\n",
      "Tasks have completed. Merging results... Completed.\n"
     ]
    },
    {
     "data": {
      "text/html": [
       "<dl>\n",
       "\t<dt>$`1`</dt>\n",
       "\t\t<dd>'Hello World from node 1'</dd>\n",
       "\t<dt>$`2`</dt>\n",
       "\t\t<dd>'Hello World from node 2'</dd>\n",
       "\t<dt>$`3`</dt>\n",
       "\t\t<dd>'Hello World from node 3'</dd>\n",
       "\t<dt>$`4`</dt>\n",
       "\t\t<dd>'Hello World from node 4'</dd>\n",
       "\t<dt>$`5`</dt>\n",
       "\t\t<dd>'Hello World from node 5'</dd>\n",
       "</dl>\n"
      ],
      "text/latex": [
       "\\begin{description}\n",
       "\\item[\\$`1`] 'Hello World from node 1'\n",
       "\\item[\\$`2`] 'Hello World from node 2'\n",
       "\\item[\\$`3`] 'Hello World from node 3'\n",
       "\\item[\\$`4`] 'Hello World from node 4'\n",
       "\\item[\\$`5`] 'Hello World from node 5'\n",
       "\\end{description}\n"
      ],
      "text/markdown": [
       "$`1`\n",
       ":   'Hello World from node 1'\n",
       "$`2`\n",
       ":   'Hello World from node 2'\n",
       "$`3`\n",
       ":   'Hello World from node 3'\n",
       "$`4`\n",
       ":   'Hello World from node 4'\n",
       "$`5`\n",
       ":   'Hello World from node 5'\n",
       "\n",
       "\n"
      ],
      "text/plain": [
       "$`1`\n",
       "[1] \"Hello World from node 1\"\n",
       "\n",
       "$`2`\n",
       "[1] \"Hello World from node 2\"\n",
       "\n",
       "$`3`\n",
       "[1] \"Hello World from node 3\"\n",
       "\n",
       "$`4`\n",
       "[1] \"Hello World from node 4\"\n",
       "\n",
       "$`5`\n",
       "[1] \"Hello World from node 5\"\n"
      ]
     },
     "metadata": {},
     "output_type": "display_data"
    }
   ],
   "source": [
    "# Number of execution workers currently registered in the doPar backend\n",
    "getDoParWorkers()\n",
    "# Hello world\n",
    "foreach(i=1:5) %dopar% sprintf(\"Hello World from node %s\", i)"
   ]
  },
  {
   "cell_type": "markdown",
   "metadata": {},
   "source": [
    "# Parallel computing on Azure Batch\n",
    "\n",
    "## Parallel Random Forest\n",
    "\n",
    "<br>\n",
    "Let’s take random forest as an example of an operation that can take a while to execute. Let’s say our inputs are the matrix x, and the factor y:"
   ]
  },
  {
   "cell_type": "code",
   "execution_count": 16,
   "metadata": {},
   "outputs": [],
   "source": [
    "x <- matrix(runif(500), 100)\n",
    "y <- gl(2, 50)"
   ]
  },
  {
   "cell_type": "markdown",
   "metadata": {},
   "source": [
    "Let's create a random forest model with 1000 trees. We will plit up the problem into 5 pieces, with the `ntree` argument set to 200. The package `randomForest` comes with a function called `combine` that combines the resulting `randomForest` objects.\n",
    "\n",
    "We first run it locally. "
   ]
  },
  {
   "cell_type": "code",
   "execution_count": 17,
   "metadata": {},
   "outputs": [
    {
     "data": {
      "text/plain": [
       "\n",
       "Call:\n",
       " randomForest(x = x, y = y, ntree = ntree) \n",
       "               Type of random forest: classification\n",
       "                     Number of trees: 50000\n",
       "No. of variables tried at each split: 2\n"
      ]
     },
     "metadata": {},
     "output_type": "display_data"
    }
   ],
   "source": [
    "suppressMessages(library(randomForest))\n",
    "rf <- foreach(ntree = rep(10000, 5), .combine = combine) %do%\n",
    "    randomForest(x, y, ntree = ntree)\n",
    "rf"
   ]
  },
  {
   "cell_type": "markdown",
   "metadata": {},
   "source": [
    "<br>\n",
    "Now lets run the same on the registered parallel backend. What about the package `randomForest`? Is it in the Azure Batch pool?\n",
    "\n",
    "The following block will throw an error"
   ]
  },
  {
   "cell_type": "code",
   "execution_count": 18,
   "metadata": {},
   "outputs": [
    {
     "name": "stdout",
     "output_type": "stream",
     "text": [
      "================================================================================\n",
      "Id: job20201007214056\n",
      "chunkSize: 1\n",
      "enableCloudCombine: TRUE\n",
      "errorHandling: pass\n",
      "wait: TRUE\n",
      "autoDeleteJob: TRUE\n",
      "================================================================================\n",
      "Submitting tasks (5/5)\n",
      "Submitting merge task. . .\n",
      "Waiting for tasks to complete. . .\n",
      "| Progress: 100.00% (5/5) | Running: 0 | Queued: 0 | Completed: 5 | Failed: 5 |\n",
      "Tasks have completed. Merging results... Completed.\n",
      "error calling combine function:\n",
      "<simpleError in fun(result.1, result.2): Argument must be a list of randomForest objects>\n"
     ]
    },
    {
     "data": {
      "text/plain": [
       "NULL"
      ]
     },
     "metadata": {},
     "output_type": "display_data"
    }
   ],
   "source": [
    "rf <- foreach(ntree = rep(10000, 5), .combine = combine, .errorhandling = \"pass\") %dopar%\n",
    "    randomForest(x, y, ntree = ntree)\n",
    "rf"
   ]
  },
  {
   "cell_type": "markdown",
   "metadata": {},
   "source": [
    "## Diagnostics\n",
    "\n",
    "`doAzureParallel` offers minimum functionality for diagnostics"
   ]
  },
  {
   "cell_type": "code",
   "execution_count": 19,
   "metadata": {},
   "outputs": [
    {
     "name": "stdout",
     "output_type": "stream",
     "text": [
      "\n",
      "\n",
      "\n",
      "\n",
      "\n",
      "\n",
      "\n",
      "================================================================================\n",
      "Id: job20201007214252\n",
      "chunkSize: 1\n",
      "enableCloudCombine: TRUE\n",
      "errorHandling: stop\n",
      "wait: TRUE\n",
      "autoDeleteJob: TRUE\n",
      "================================================================================\n",
      "\n",
      "\n",
      "Submitting tasks (1/5)\n",
      "Submitting tasks (2/5)\n",
      "Submitting tasks (3/5)\n",
      "Submitting tasks (4/5)\n",
      "Submitting tasks (5/5)\n",
      "Submitting merge task\n",
      ". . .\n",
      "\n",
      "Waiting for tasks to complete. . .\n",
      "| Progress: 100.00% (5/5) | Running: 0 | Queued: 0 | Completed: 5 | Failed: 5 |\n"
     ]
    },
    {
     "name": "stderr",
     "output_type": "stream",
     "text": [
      "Warning message in waitForTasksToComplete(id, jobTimeout, obj$errorHandling):\n",
      "“5 task(s) failed while running the job. This caused the job to terminate automatically. To disable this behavior and continue on failure, set .errorHandling='remove | pass' in the foreach loop\n",
      "1\n",
      "2\n",
      "3\n",
      "4\n",
      "5\n",
      "”\n"
     ]
    },
    {
     "ename": "ERROR",
     "evalue": "Error in waitForTasksToComplete(id, jobTimeout, obj$errorHandling): Errors have occurred while running the job 'job20201007214252'. Error handling is set to 'stop' and has proceeded to terminate the job. The user will have to handle deleting the job. If this is not the correct behavior, change the errorhandling property to 'pass'  or 'remove' in the foreach object. Use the 'getJobFile' function to obtain the logs. For more information about getting job logs, follow this link: https://github.com/Azure/doAzureParallel/blob/master/docs/90-troubleshooting.md#viewing-files-directly-from-compute-node\n",
     "output_type": "error",
     "traceback": [
      "Error in waitForTasksToComplete(id, jobTimeout, obj$errorHandling): Errors have occurred while running the job 'job20201007214252'. Error handling is set to 'stop' and has proceeded to terminate the job. The user will have to handle deleting the job. If this is not the correct behavior, change the errorhandling property to 'pass'  or 'remove' in the foreach object. Use the 'getJobFile' function to obtain the logs. For more information about getting job logs, follow this link: https://github.com/Azure/doAzureParallel/blob/master/docs/90-troubleshooting.md#viewing-files-directly-from-compute-node\nTraceback:\n",
      "1. foreach(ntree = rep(200, 5), .combine = combine) %dopar% randomForest(x, \n .     y, ntree = ntree)",
      "2. e$fun(obj, substitute(ex), parent.frame(), e$data)",
      "3. tryCatch({\n .     waitForTasksToComplete(id, jobTimeout, obj$errorHandling)\n .     if (typeof(cloudCombine) == \"list\" && enableCloudCombine) {\n .         tempFile <- tempfile(\"doAzureParallel\", fileext = \".rds\")\n .         response <- storageClient$blobOperations$downloadBlob(id, \n .             paste0(\"results/\", \"merge-result.rds\"), sasToken = sasToken, \n .             accountName = storageClient$authentication$name, \n .             endpointSuffix = config$endpointSuffix, downloadPath = tempFile, \n .             overwrite = TRUE)\n .         results <- readRDS(tempFile)\n .         failTasks <- sapply(results, .isError)\n .         numberOfFailedTasks <- sum(unlist(failTasks))\n .         if (numberOfFailedTasks > 0 && autoDeleteJob == FALSE) {\n .             .createErrorViewerPane(id, failTasks)\n .         }\n .         if (!identical(function(a, ...) c(a, list(...)), obj$combineInfo$fun, \n .             ignore.environment = TRUE)) {\n .             tryCatch({\n .                 accumulator <- foreach::makeAccum(it)\n .                 accumulator(results, as.numeric(names(results)))\n .             }, error = function(e) {\n .                 cat(\"error calling combine function:\\n\")\n .                 print(e)\n .             })\n .             errorValue <- foreach::getErrorValue(it)\n .             errorIndex <- foreach::getErrorIndex(it)\n .             if (identical(obj$errorHandling, \"stop\") && !is.null(errorValue)) {\n .                 msg <- sprintf(paste0(\"task %d failed - '%s'.\\r\\nBy default a job and its result is deleted after run is over, use\", \n .                   \" setAutoDeleteJob(FALSE) or autoDeleteJob = FALSE option to keep them for investigation.\"), \n .                   errorIndex, conditionMessage(errorValue))\n .                 stop(simpleError(msg, call = expr))\n .             }\n .             else {\n .                 results <- foreach::getResult(it)\n .             }\n .         }\n .     }\n . }, error = function(ex) {\n .     message(ex)\n . })",
      "4. tryCatchList(expr, classes, parentenv, handlers)",
      "5. tryCatchOne(expr, names, parentenv, handlers[[1L]])",
      "6. value[[3L]](cond)",
      "7. message(ex)",
      "8. withRestarts({\n .     signalCondition(cond)\n .     defaultHandler(cond)\n . }, muffleMessage = function() NULL)",
      "9. withOneRestart(expr, restarts[[1L]])",
      "10. doWithOneRestart(return(expr), restart)"
     ]
    }
   ],
   "source": [
    "# Enable verbose mode\n",
    "setVerbose(TRUE)\n",
    "setHttpTraffic(TRUE)\n",
    "rf <- foreach(ntree = rep(200, 5), .combine = combine) %dopar%\n",
    "    randomForest(x, y, ntree = ntree)\n",
    "# Disable verbose\n",
    "setVerbose(FALSE)\n",
    "setHttpTraffic(FALSE)"
   ]
  },
  {
   "cell_type": "markdown",
   "metadata": {},
   "source": [
    "Some metadata can be fetched from Azure, but for details of the error we would have to The Azure Portal or Azure Batch explorer."
   ]
  },
  {
   "cell_type": "code",
   "execution_count": 21,
   "metadata": {},
   "outputs": [
    {
     "name": "stdout",
     "output_type": "stream",
     "text": [
      "Job Id: job20201007214252\n",
      "\n",
      "job metadata:\n",
      "\tchunkSize: 1\n",
      "\tenableCloudCombine: TRUE\n",
      "\tpackages: \n",
      "\terrorHandling: stop\n",
      "\twait: FALSE\n",
      "\n",
      "tasks:\n",
      "\tactive: 0\n",
      "\trunning: 0\n",
      "\tcompleted: 6\n",
      "\t\tsucceeded: 0\n",
      "\t\tfailed: 6\n",
      "\ttotal: 6\n",
      "\n",
      "job state: completed\n"
     ]
    },
    {
     "data": {
      "text/html": [
       "<dl>\n",
       "\t<dt>$jobId</dt>\n",
       "\t\t<dd>'job20201007214252'</dd>\n",
       "\t<dt>$metadata</dt>\n",
       "\t\t<dd><dl>\n",
       "\t<dt>$chunkSize</dt>\n",
       "\t\t<dd>'1'</dd>\n",
       "\t<dt>$enableCloudCombine</dt>\n",
       "\t\t<dd>'TRUE'</dd>\n",
       "\t<dt>$packages</dt>\n",
       "\t\t<dd>''</dd>\n",
       "\t<dt>$errorHandling</dt>\n",
       "\t\t<dd>'stop'</dd>\n",
       "\t<dt>$wait</dt>\n",
       "\t\t<dd>'FALSE'</dd>\n",
       "</dl>\n",
       "</dd>\n",
       "\t<dt>$tasks</dt>\n",
       "\t\t<dd><dl>\n",
       "\t<dt>$active</dt>\n",
       "\t\t<dd>0</dd>\n",
       "\t<dt>$running</dt>\n",
       "\t\t<dd>0</dd>\n",
       "\t<dt>$completed</dt>\n",
       "\t\t<dd>6</dd>\n",
       "\t<dt>$succeeded</dt>\n",
       "\t\t<dd>0</dd>\n",
       "\t<dt>$failed</dt>\n",
       "\t\t<dd>6</dd>\n",
       "</dl>\n",
       "</dd>\n",
       "\t<dt>$jobState</dt>\n",
       "\t\t<dd>'completed'</dd>\n",
       "</dl>\n"
      ],
      "text/latex": [
       "\\begin{description}\n",
       "\\item[\\$jobId] 'job20201007214252'\n",
       "\\item[\\$metadata] \\begin{description}\n",
       "\\item[\\$chunkSize] '1'\n",
       "\\item[\\$enableCloudCombine] 'TRUE'\n",
       "\\item[\\$packages] ''\n",
       "\\item[\\$errorHandling] 'stop'\n",
       "\\item[\\$wait] 'FALSE'\n",
       "\\end{description}\n",
       "\n",
       "\\item[\\$tasks] \\begin{description}\n",
       "\\item[\\$active] 0\n",
       "\\item[\\$running] 0\n",
       "\\item[\\$completed] 6\n",
       "\\item[\\$succeeded] 0\n",
       "\\item[\\$failed] 6\n",
       "\\end{description}\n",
       "\n",
       "\\item[\\$jobState] 'completed'\n",
       "\\end{description}\n"
      ],
      "text/markdown": [
       "$jobId\n",
       ":   'job20201007214252'\n",
       "$metadata\n",
       ":   $chunkSize\n",
       ":   '1'\n",
       "$enableCloudCombine\n",
       ":   'TRUE'\n",
       "$packages\n",
       ":   ''\n",
       "$errorHandling\n",
       ":   'stop'\n",
       "$wait\n",
       ":   'FALSE'\n",
       "\n",
       "\n",
       "\n",
       "$tasks\n",
       ":   $active\n",
       ":   0\n",
       "$running\n",
       ":   0\n",
       "$completed\n",
       ":   6\n",
       "$succeeded\n",
       ":   0\n",
       "$failed\n",
       ":   6\n",
       "\n",
       "\n",
       "\n",
       "$jobState\n",
       ":   'completed'\n",
       "\n",
       "\n"
      ],
      "text/plain": [
       "$jobId\n",
       "[1] \"job20201007214252\"\n",
       "\n",
       "$metadata\n",
       "$metadata$chunkSize\n",
       "[1] \"1\"\n",
       "\n",
       "$metadata$enableCloudCombine\n",
       "[1] \"TRUE\"\n",
       "\n",
       "$metadata$packages\n",
       "[1] \"\"\n",
       "\n",
       "$metadata$errorHandling\n",
       "[1] \"stop\"\n",
       "\n",
       "$metadata$wait\n",
       "[1] \"FALSE\"\n",
       "\n",
       "\n",
       "$tasks\n",
       "$tasks$active\n",
       "[1] 0\n",
       "\n",
       "$tasks$running\n",
       "[1] 0\n",
       "\n",
       "$tasks$completed\n",
       "[1] 6\n",
       "\n",
       "$tasks$succeeded\n",
       "[1] 0\n",
       "\n",
       "$tasks$failed\n",
       "[1] 6\n",
       "\n",
       "\n",
       "$jobState\n",
       "[1] \"completed\"\n"
      ]
     },
     "metadata": {},
     "output_type": "display_data"
    }
   ],
   "source": [
    "doAzureParallel::getJob(\"job20201007214252\")"
   ]
  },
  {
   "cell_type": "markdown",
   "metadata": {},
   "source": [
    "The [doAzureParallel troubleshooting documentation in github](https://github.com/Azure/doAzureParallel/blob/master/docs/90-troubleshooting.md) can be helpful. One can also enable verbose logging \n",
    "\n",
    "\n",
    "## Monitoring and Managing the Azure environment\n",
    "\n",
    "`doAzureParallel` offers very limited functionality for monitoring and managing the Azure environment. The Azure Portal or specific tools like Azure Batch Explorer and Azure Storate Explorer (or custom tools using Azure APIs) should be used together for monitoring and management.\n",
    "\n",
    "Special remark should be made about the status of the Azure Batch cluster. This cannot be changed from the R session with `doAzureParallel`. The cluster nodes are created in status \"Enable\" (Idle), and thus they are a running cost until they are disabled, or deleted. It is possible to delete a cluster with `doAzureParallel`"
   ]
  },
  {
   "cell_type": "markdown",
   "metadata": {},
   "source": [
    "# R runtime environment in Azure Batch\n",
    "\n",
    "## Installing packages for your parallel runs\n",
    "Our last call to Azure Batch failed because the package `randomForest` was being used, but was not available on the R runtime environment on Azure Batch. It can be installed on the fly using the `foreach` parameter `.packages`"
   ]
  },
  {
   "cell_type": "code",
   "execution_count": null,
   "metadata": {},
   "outputs": [
    {
     "name": "stdout",
     "output_type": "stream",
     "text": [
      "\n",
      "\n",
      "\n",
      "\n",
      "\n",
      "\n",
      "\n",
      "================================================================================\n",
      "Id: job20201007214457\n",
      "chunkSize: 1\n",
      "enableCloudCombine: TRUE\n",
      "packages: \n",
      "\trandomForest; \n",
      "errorHandling: stop\n",
      "wait: TRUE\n",
      "autoDeleteJob: TRUE\n",
      "================================================================================\n",
      "\n",
      "\n",
      "Submitting tasks (1/10)\n",
      "Submitting tasks (2/10)\n",
      "Submitting tasks (3/10)\n",
      "Submitting tasks (4/10)\n",
      "Submitting tasks (5/10)\n",
      "Submitting tasks (6/10)\n",
      "Submitting tasks (7/10)\n",
      "Submitting tasks (8/10)\n",
      "Submitting tasks (9/10)\n",
      "Submitting tasks (10/10)\n",
      "Submitting merge task\n",
      ". . .\n",
      "\n",
      "Job Preparation Status: Package(s) being installed.\n",
      "Waiting for tasks to complete. . .\n",
      "| Progress: 100.00% (10/10) | Running: 0 | Queued: 0 | Completed: 10 | Failed: 0 |"
     ]
    }
   ],
   "source": [
    "rf <- foreach(ntree = rep(10000, 10), .combine = combine, .packages = \"randomForest\") %dopar%\n",
    "    randomForest(x, y, ntree = ntree)\n",
    "rf"
   ]
  },
  {
   "cell_type": "markdown",
   "metadata": {},
   "source": [
    "Note that every time we execute the above chunk, a new installation of the package `randomForest` is triggered.\n",
    "\n",
    "## Runtime environment of the `doAzureParallel` cluster\n",
    "<br>\n",
    "The R code that we ship to run on the Azure Batch cluster runs on a docker container. This ensures a stable runtime environment: all jobs running on the same node run on a new container. The jobs are independent from each other, thus the past jobs history does not affect new jobs, even if previous jobs did things like installing new packages.\n",
    "\n",
    "A docker image is specified at the time of creating the cluster, in the file `cluster.json`. The default image is \"rocker/tidyverse:latest\".\n",
    "\n",
    "## Customizing the docker image for the R runtime\n",
    "\n",
    "Installing packages at runtime, like in the last example, is not a convenient practice. Recurrent packages should rather be added to the docker image used for all containers. `doAzureParallel` makes this easy by allowing specification of packages in `cluster.json`. Various sources are allowed: cran, github, bioconductor.\n",
    "\n",
    "It is also possible to specify a custom container image altogether.\n",
    "\n",
    "# Accessing the Azure Storage\n",
    "\n",
    "## Fetching files from the cluster\n",
    "Lets modify the closing prices example and write on disk results of each iteration"
   ]
  },
  {
   "cell_type": "code",
   "execution_count": null,
   "metadata": {},
   "outputs": [],
   "source": [
    "n <- 100000\n",
    "iterations <- 10\n",
    "closingPrices <- foreach(i = seq(iterations), .combine = \"c\") %dopar% {\n",
    "    results <- replicate(n/iterations, getClosingPrice())\n",
    "    results_file <- sprintf(\"results_iteration_%s.csv\", i)\n",
    "    write.csv(results, results_file, row.names = FALSE)\n",
    "    return(results)\n",
    "}\n",
    "hist(closingPrices)"
   ]
  },
  {
   "cell_type": "markdown",
   "metadata": {},
   "source": [
    "Now lets download the files generated.  \n",
    "_To do_"
   ]
  },
  {
   "cell_type": "markdown",
   "metadata": {},
   "source": [
    "## Mounting Azure File Shares\n",
    "_To do_\n",
    "\n",
    "## Distributed computing\n",
    "_To do_\n",
    "\n"
   ]
  },
  {
   "cell_type": "markdown",
   "metadata": {},
   "source": [
    "# References\n",
    "\n",
    "- [Microsoft Azure Batch documentation](https://docs.microsoft.com/en-us/azure/batch/batch-technical-overview)\n",
    "- [Package foreach. Vignettes](https://cran.r-project.org/web/packages/foreach/vignettes/foreach.html)\n",
    "- [Package doParallel. Vignettes](https://cran.r-project.org/web/packages/doParallel/vignettes/gettingstartedParallel.pdf)\n",
    "- [Package doFuture. Vignettes](https://cran.r-project.org/web/packages/doFuture/vignettes/doFuture.html)\n",
    "- [Package doAzureFuture. Github repository](https://github.com/Azure/doAzureParallel)\n",
    "- [Package rAzureBatch. Github repository](https://github.com/Azure/rAzureBatch/tree/master/R)"
   ]
  },
  {
   "cell_type": "code",
   "execution_count": null,
   "metadata": {},
   "outputs": [],
   "source": []
  }
 ],
 "metadata": {
  "kernelspec": {
   "display_name": "R",
   "language": "R",
   "name": "ir"
  },
  "language_info": {
   "codemirror_mode": "r",
   "file_extension": ".r",
   "mimetype": "text/x-r-source",
   "name": "R",
   "pygments_lexer": "r",
   "version": "3.6.3"
  },
  "toc": {
   "base_numbering": 1,
   "nav_menu": {},
   "number_sections": false,
   "sideBar": true,
   "skip_h1_title": false,
   "title_cell": "Table of Contents",
   "title_sidebar": "Parallel programming with R and Azure Batch",
   "toc_cell": false,
   "toc_position": {
    "height": "calc(100% - 180px)",
    "left": "10px",
    "top": "150px",
    "width": "372px"
   },
   "toc_section_display": true,
   "toc_window_display": true
  }
 },
 "nbformat": 4,
 "nbformat_minor": 4
}
